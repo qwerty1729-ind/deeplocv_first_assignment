{
 "cells": [
  {
   "cell_type": "code",
   "id": "initial_id",
   "metadata": {
    "collapsed": true,
    "ExecuteTime": {
     "end_time": "2024-12-17T13:22:58.336151Z",
     "start_time": "2024-12-17T13:22:58.323325Z"
    }
   },
   "source": [
    "from PIL import Image\n",
    "import numpy as np\n",
    "def is_indonesia_or_poland_flag(image_path):\n",
    "    # Open the image file\n",
    "    img = Image.open(image_path)\n",
    "    img = img.convert('RGB')\n",
    "\n",
    "    # Resize the image to a standard size for consistency\n",
    "    img = img.resize((100, 100))\n",
    "\n",
    "    # Convert the image to a numpy array\n",
    "    img_array = np.array(img)\n",
    "\n",
    "    # Split the image into two halves\n",
    "    top_half = img_array[:50, :, :]\n",
    "    bottom_half = img_array[50:, :, :]\n",
    "\n",
    "    # Calculate the average color of each half\n",
    "    top_avg_color = np.mean(top_half, axis=(0, 1))\n",
    "    bottom_avg_color = np.mean(bottom_half, axis=(0, 1))\n",
    "\n",
    "    # Define the color ranges for red and white\n",
    "    red = np.array([255, 0, 0])\n",
    "    white = np.array([255, 255, 255])\n",
    "\n",
    "    # Calculate the difference from red and white\n",
    "    top_diff_red = np.linalg.norm(top_avg_color - red)\n",
    "    top_diff_white = np.linalg.norm(top_avg_color - white)\n",
    "    bottom_diff_red = np.linalg.norm(bottom_avg_color - red)\n",
    "    bottom_diff_white = np.linalg.norm(bottom_avg_color - white)\n",
    "\n",
    "    # Determine the flag based on color differences\n",
    "    if top_diff_red < top_diff_white and bottom_diff_white < bottom_diff_red:\n",
    "        return \"Indonesia\"\n",
    "    elif top_diff_white < top_diff_red and bottom_diff_red < bottom_diff_white:\n",
    "        return \"Poland\"\n",
    "    else:\n",
    "        return \"Unknown\"\n",
    "# Example usage\n",
    "image_path = 'image.jpg'\n",
    "result = is_indonesia_or_poland_flag(image_path)\n",
    "print(f\"The flag is: {result}\")"
   ],
   "outputs": [
    {
     "name": "stdout",
     "output_type": "stream",
     "text": [
      "The flag is: Indonesia\n"
     ]
    }
   ],
   "execution_count": 81
  }
 ],
 "metadata": {
  "kernelspec": {
   "display_name": "Python 3",
   "language": "python",
   "name": "python3"
  },
  "language_info": {
   "codemirror_mode": {
    "name": "ipython",
    "version": 2
   },
   "file_extension": ".py",
   "mimetype": "text/x-python",
   "name": "python",
   "nbconvert_exporter": "python",
   "pygments_lexer": "ipython2",
   "version": "2.7.6"
  }
 },
 "nbformat": 4,
 "nbformat_minor": 5
}
